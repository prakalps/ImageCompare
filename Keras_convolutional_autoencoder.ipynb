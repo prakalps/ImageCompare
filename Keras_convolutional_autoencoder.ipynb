{
 "cells": [
  {
   "cell_type": "code",
   "execution_count": 1,
   "metadata": {},
   "outputs": [
    {
     "name": "stderr",
     "output_type": "stream",
     "text": [
      "Using TensorFlow backend.\n"
     ]
    }
   ],
   "source": [
    "from keras.layers import Input, Conv2D, MaxPooling2D, UpSampling2D\n",
    "from keras.models import Model\n",
    "from keras.datasets import mnist\n",
    "from keras.callbacks import TensorBoard\n",
    "# from tensorflow.keras.callbacks import TensorBoard\n",
    "from keras import backend as K\n",
    "import numpy as np\n",
    "import matplotlib.pyplot as plt\n",
    "import pickle"
   ]
  },
  {
   "cell_type": "code",
   "execution_count": 2,
   "metadata": {},
   "outputs": [],
   "source": [
    "input_img = Input(shape=(28, 28, 1))    # adapt this if using 'channels_first' image data format\n",
    "\n",
    "x = Conv2D(16, (3, 3), activation='relu', padding='same')(input_img)\n",
    "x = MaxPooling2D((2, 2), padding='same')(x)\n",
    "x = Conv2D(8, (3, 3), activation='relu', padding='same')(x)\n",
    "x = MaxPooling2D((2, 2), padding='same')(x)\n",
    "x = Conv2D(8, (3, 3), activation='relu', padding='same')(x)\n",
    "encoded = MaxPooling2D((2, 2), padding='same')(x)"
   ]
  },
  {
   "cell_type": "code",
   "execution_count": 3,
   "metadata": {},
   "outputs": [],
   "source": [
    "# at this point the representation is (4, 4, 8), i.e. 128-dimensional\n",
    "\n",
    "x = Conv2D(8, (3, 3), activation='relu', padding='same')(encoded)\n",
    "x = UpSampling2D((2, 2))(x)\n",
    "x = Conv2D(8, (3, 3), activation='relu', padding='same')(x)\n",
    "x = UpSampling2D((2, 2))(x)\n",
    "x = Conv2D(16, (3, 3), activation='relu')(x)\n",
    "x = UpSampling2D((2, 2))(x)\n",
    "decoded = Conv2D(1, (3, 3), activation='sigmoid', padding='same')(x)\n",
    "\n",
    "autoencoder = Model(input_img, decoded)\n",
    "autoencoder.compile(optimizer='adadelta', loss='binary_crossentropy')"
   ]
  },
  {
   "cell_type": "code",
   "execution_count": 6,
   "metadata": {},
   "outputs": [],
   "source": [
    "from tensorflow.keras.callbacks import TensorBoard\n",
    "from tensorflow.keras.layers import *\n",
    "from tensorflow.keras.models import Sequential"
   ]
  },
  {
   "cell_type": "code",
   "execution_count": 8,
   "metadata": {},
   "outputs": [
    {
     "name": "stdout",
     "output_type": "stream",
     "text": [
      "Train on 60000 samples, validate on 10000 samples\n",
      "Epoch 1/50\n",
      " - 12s - loss: 0.2118 - val_loss: 0.1653\n",
      "Epoch 2/50\n",
      " - 10s - loss: 0.1523 - val_loss: 0.1391\n",
      "Epoch 3/50\n",
      " - 8s - loss: 0.1389 - val_loss: 0.1304\n",
      "Epoch 4/50\n",
      " - 7s - loss: 0.1321 - val_loss: 0.1305\n",
      "Epoch 5/50\n",
      " - 9s - loss: 0.1277 - val_loss: 0.1248\n",
      "Epoch 6/50\n",
      " - 11s - loss: 0.1244 - val_loss: 0.1195\n",
      "Epoch 7/50\n",
      " - 7s - loss: 0.1216 - val_loss: 0.1211\n",
      "Epoch 8/50\n",
      " - 7s - loss: 0.1194 - val_loss: 0.1162\n",
      "Epoch 9/50\n",
      " - 8s - loss: 0.1173 - val_loss: 0.1180\n",
      "Epoch 10/50\n",
      " - 9s - loss: 0.1158 - val_loss: 0.1151\n",
      "Epoch 11/50\n",
      " - 8s - loss: 0.1144 - val_loss: 0.1117\n",
      "Epoch 12/50\n",
      " - 8s - loss: 0.1129 - val_loss: 0.1115\n",
      "Epoch 13/50\n",
      " - 8s - loss: 0.1118 - val_loss: 0.1096\n",
      "Epoch 14/50\n",
      " - 8s - loss: 0.1114 - val_loss: 0.1077\n",
      "Epoch 15/50\n",
      " - 8s - loss: 0.1105 - val_loss: 0.1082\n",
      "Epoch 16/50\n",
      " - 10s - loss: 0.1094 - val_loss: 0.1068\n",
      "Epoch 17/50\n",
      " - 10s - loss: 0.1088 - val_loss: 0.1091\n",
      "Epoch 18/50\n",
      " - 9s - loss: 0.1085 - val_loss: 0.1072\n",
      "Epoch 19/50\n",
      " - 8s - loss: 0.1080 - val_loss: 0.1084\n",
      "Epoch 20/50\n",
      " - 8s - loss: 0.1075 - val_loss: 0.1051\n",
      "Epoch 21/50\n",
      " - 8s - loss: 0.1067 - val_loss: 0.1035\n",
      "Epoch 22/50\n",
      " - 8s - loss: 0.1060 - val_loss: 0.1036\n",
      "Epoch 23/50\n",
      " - 9s - loss: 0.1058 - val_loss: 0.1055\n",
      "Epoch 24/50\n",
      " - 8s - loss: 0.1054 - val_loss: 0.1028\n",
      "Epoch 25/50\n",
      " - 8s - loss: 0.1052 - val_loss: 0.1008\n",
      "Epoch 26/50\n",
      " - 8s - loss: 0.1046 - val_loss: 0.1033\n",
      "Epoch 27/50\n",
      " - 8s - loss: 0.1045 - val_loss: 0.1028\n",
      "Epoch 28/50\n",
      " - 8s - loss: 0.1040 - val_loss: 0.1031\n",
      "Epoch 29/50\n",
      " - 8s - loss: 0.1038 - val_loss: 0.1028\n",
      "Epoch 30/50\n",
      " - 8s - loss: 0.1035 - val_loss: 0.1019\n",
      "Epoch 31/50\n",
      " - 9s - loss: 0.1033 - val_loss: 0.1016\n",
      "Epoch 32/50\n",
      " - 8s - loss: 0.1029 - val_loss: 0.1002\n",
      "Epoch 33/50\n",
      " - 8s - loss: 0.1028 - val_loss: 0.1034\n",
      "Epoch 34/50\n",
      " - 7s - loss: 0.1023 - val_loss: 0.0988\n",
      "Epoch 35/50\n",
      " - 8s - loss: 0.1021 - val_loss: 0.1010\n",
      "Epoch 36/50\n",
      " - 9s - loss: 0.1021 - val_loss: 0.1028\n",
      "Epoch 37/50\n",
      " - 9s - loss: 0.1020 - val_loss: 0.0995\n",
      "Epoch 38/50\n",
      " - 9s - loss: 0.1018 - val_loss: 0.1011\n",
      "Epoch 39/50\n",
      " - 9s - loss: 0.1012 - val_loss: 0.0993\n",
      "Epoch 40/50\n",
      " - 8s - loss: 0.1009 - val_loss: 0.1033\n",
      "Epoch 41/50\n",
      " - 8s - loss: 0.1010 - val_loss: 0.0990\n",
      "Epoch 42/50\n",
      " - 8s - loss: 0.1009 - val_loss: 0.0986\n",
      "Epoch 43/50\n",
      " - 8s - loss: 0.1004 - val_loss: 0.0980\n",
      "Epoch 44/50\n",
      " - 9s - loss: 0.1003 - val_loss: 0.0975\n",
      "Epoch 45/50\n",
      " - 9s - loss: 0.1001 - val_loss: 0.1011\n",
      "Epoch 46/50\n",
      " - 9s - loss: 0.1001 - val_loss: 0.0985\n",
      "Epoch 47/50\n",
      " - 9s - loss: 0.0997 - val_loss: 0.0998\n",
      "Epoch 48/50\n",
      " - 9s - loss: 0.0997 - val_loss: 0.0976\n",
      "Epoch 49/50\n",
      " - 9s - loss: 0.0996 - val_loss: 0.0985\n",
      "Epoch 50/50\n",
      " - 9s - loss: 0.0992 - val_loss: 0.0983\n",
      " .. MODEL FITTING DONE ..\n"
     ]
    }
   ],
   "source": [
    "# To train it, use the original MNIST digits with shape (samples, 3, 28, 28),\n",
    "# and just normalize pixel values between 0 and 1\n",
    "\n",
    "(x_train, _), (x_test, _) = mnist.load_data()\n",
    "\n",
    "x_train = x_train.astype('float32') / 255.\n",
    "x_test = x_test.astype('float32') / 255.\n",
    "x_train = np.reshape(x_train, (len(x_train), 28, 28, 1))    # adapt this if using 'channels_first' image data format\n",
    "x_test = np.reshape(x_test, (len(x_test), 28, 28, 1))       # adapt this if using 'channels_first' image data format\n",
    "\n",
    "# open a terminal and start TensorBoard to read logs in the autoencoder subdirectory\n",
    "# tensorboard --logdir=autoencoder\n",
    "# tbCallBack = TensorBoard(log_dir='./Graph', histogram_freq=0, write_graph=True, write_images=True)\n",
    "autoencoder.fit(x_train, x_train, epochs=50, batch_size=128, shuffle=True, validation_data=(x_test, x_test), verbose=2)\n",
    "print(\" .. MODEL FITTING DONE ..\")"
   ]
  },
  {
   "cell_type": "code",
   "execution_count": 9,
   "metadata": {},
   "outputs": [],
   "source": [
    "# take a look at the reconstructed digits\n",
    "decoded_imgs = autoencoder.predict(x_test)"
   ]
  },
  {
   "cell_type": "code",
   "execution_count": 10,
   "metadata": {},
   "outputs": [
    {
     "data": {
      "image/png": "[encoded data removed]",
      "text/plain": [
       "<Figure size 1000x400 with 20 Axes>"
      ]
     },
     "metadata": {
      "needs_background": "light"
     },
     "output_type": "display_data"
    }
   ],
   "source": [
    "n = 10\n",
    "plt.figure(figsize=(10, 4), dpi=100)\n",
    "for i in range(n):\n",
    "    # display original\n",
    "    ax = plt.subplot(2, n, i + 1)\n",
    "    plt.imshow(x_test[i].reshape(28, 28))\n",
    "    plt.gray()\n",
    "    ax.set_axis_off()\n",
    "\n",
    "    # display reconstruction\n",
    "    ax = plt.subplot(2, n, i + n + 1)\n",
    "    plt.imshow(decoded_imgs[i].reshape(28, 28))\n",
    "    plt.gray()\n",
    "    ax.set_axis_off()\n",
    "\n",
    "plt.show()"
   ]
  },
  {
   "cell_type": "code",
   "execution_count": 11,
   "metadata": {},
   "outputs": [
    {
     "data": {
      "image/png": "[encoded data removed]",
      "text/plain": [
       "<Figure size 1000x400 with 10 Axes>"
      ]
     },
     "metadata": {
      "needs_background": "light"
     },
     "output_type": "display_data"
    }
   ],
   "source": [
    "# take a look at the 128-dimensional encoded representation\n",
    "# these representations are 8x4x4, so we reshape them to 4x32 in order to be able to display them as grayscale images\n",
    "\n",
    "encoder = Model(input_img, encoded)\n",
    "encoded_imgs = encoder.predict(x_test)\n",
    "\n",
    "# save latent space features 128-d vector\n",
    "pickle.dump(encoded_imgs, open('conv_autoe_features.pickle', 'wb'))\n",
    "\n",
    "n = 10\n",
    "plt.figure(figsize=(10, 4), dpi=100)\n",
    "for i in range(n):\n",
    "    ax = plt.subplot(1, n, i + 1)\n",
    "    plt.imshow(encoded_imgs[i].reshape(4, 4 * 8).T)\n",
    "    plt.gray()\n",
    "    ax.set_axis_off()\n",
    "\n",
    "plt.show()\n",
    "\n",
    "K.clear_session()"
   ]
  },
  {
   "cell_type": "code",
   "execution_count": null,
   "metadata": {},
   "outputs": [],
   "source": []
  }
 ],
 "metadata": {
  "kernelspec": {
   "display_name": "Python 3",
   "language": "python",
   "name": "python3"
  },
  "language_info": {
   "codemirror_mode": {
    "name": "ipython",
    "version": 3
   },
   "file_extension": ".py",
   "mimetype": "text/x-python",
   "name": "python",
   "nbconvert_exporter": "python",
   "pygments_lexer": "ipython3",
   "version": "3.7.4"
  }
 },
 "nbformat": 4,
 "nbformat_minor": 4
}
