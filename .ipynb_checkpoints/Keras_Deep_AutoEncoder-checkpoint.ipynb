{
 "cells": [
  {
   "cell_type": "code",
   "execution_count": 1,
   "metadata": {},
   "outputs": [
    {
     "name": "stderr",
     "output_type": "stream",
     "text": [
      "Using TensorFlow backend.\n"
     ]
    }
   ],
   "source": [
    "from keras.layers import Input, Dense\n",
    "from keras.models import Model\n",
    "from keras.datasets import mnist\n",
    "from keras import backend as K\n",
    "import numpy as np\n",
    "import matplotlib.pyplot as plt\n",
    "import pickle"
   ]
  },
  {
   "cell_type": "code",
   "execution_count": 2,
   "metadata": {},
   "outputs": [],
   "source": [
    "# Deep Autoencoder\n",
    "\n",
    "features_path = 'deep_autoe_features.pickle'\n",
    "labels_path = 'deep_autoe_labels.pickle'"
   ]
  },
  {
   "cell_type": "code",
   "execution_count": 3,
   "metadata": {},
   "outputs": [],
   "source": [
    "# this is the size of our encoded representations\n",
    "encoding_dim = 32   # 32 floats -> compression factor 24.5, assuming the input is 784 floats\n",
    "\n",
    "# this is our input placeholder; 784 = 28 x 28\n",
    "input_img = Input(shape=(784, ))\n",
    "\n",
    "my_epochs = 100"
   ]
  },
  {
   "cell_type": "code",
   "execution_count": 4,
   "metadata": {},
   "outputs": [],
   "source": [
    "# \"encoded\" is the encoded representation of the inputs\n",
    "encoded = Dense(encoding_dim * 4, activation='relu')(input_img)\n",
    "encoded = Dense(encoding_dim * 2, activation='relu')(encoded)\n",
    "encoded = Dense(encoding_dim, activation='relu')(encoded)"
   ]
  },
  {
   "cell_type": "code",
   "execution_count": 5,
   "metadata": {},
   "outputs": [],
   "source": [
    "# \"decoded\" is the lossy reconstruction of the input\n",
    "decoded = Dense(encoding_dim * 2, activation='relu')(encoded)\n",
    "decoded = Dense(encoding_dim * 4, activation='relu')(decoded)\n",
    "decoded = Dense(784, activation='sigmoid')(decoded)"
   ]
  },
  {
   "cell_type": "code",
   "execution_count": 6,
   "metadata": {},
   "outputs": [],
   "source": [
    "# this model maps an input to its reconstruction\n",
    "autoencoder = Model(input_img, decoded)"
   ]
  },
  {
   "cell_type": "code",
   "execution_count": 7,
   "metadata": {},
   "outputs": [],
   "source": [
    "# Separate Encoder model\n",
    "\n",
    "# this model maps an input to its encoded representation\n",
    "encoder = Model(input_img, encoded)"
   ]
  },
  {
   "cell_type": "code",
   "execution_count": 8,
   "metadata": {},
   "outputs": [],
   "source": [
    "# Separate Decoder model\n",
    "\n",
    "# create a placeholder for an encoded (32-dimensional) input\n",
    "encoded_input = Input(shape=(encoding_dim, ))\n",
    "# retrieve the layers of the autoencoder model\n",
    "decoder_layer1 = autoencoder.layers[-3]\n",
    "decoder_layer2 = autoencoder.layers[-2]\n",
    "decoder_layer3 = autoencoder.layers[-1]\n",
    "# create the decoder model\n",
    "decoder = Model(encoded_input, decoder_layer3(decoder_layer2(decoder_layer1(encoded_input))))"
   ]
  },
  {
   "cell_type": "code",
   "execution_count": 9,
   "metadata": {},
   "outputs": [],
   "source": [
    "# Train to reconstruct MNIST digits\n",
    "\n",
    "# configure model to use a per-pixel binary crossentropy loss, and the Adadelta optimizer\n",
    "autoencoder.compile(optimizer='adadelta', loss='binary_crossentropy')"
   ]
  },
  {
   "cell_type": "code",
   "execution_count": 10,
   "metadata": {},
   "outputs": [
    {
     "name": "stdout",
     "output_type": "stream",
     "text": [
      "(60000, 784)\n",
      "(10000, 784)\n"
     ]
    }
   ],
   "source": [
    "# prepare input data\n",
    "(x_train, _), (x_test, y_test) = mnist.load_data()\n",
    "\n",
    "# normalize all values between 0 and 1 and flatten the 28x28 images into vectors of size 784\n",
    "x_train = x_train.astype('float32') / 255.\n",
    "x_test = x_test.astype('float32') / 255.\n",
    "x_train = x_train.reshape((len(x_train), np.prod(x_train.shape[1:])))\n",
    "x_test = x_test.reshape((len(x_test), np.prod(x_test.shape[1:])))\n",
    "print(x_train.shape)\n",
    "print(x_test.shape)"
   ]
  },
  {
   "cell_type": "code",
   "execution_count": 11,
   "metadata": {},
   "outputs": [
    {
     "name": "stdout",
     "output_type": "stream",
     "text": [
      "Train on 60000 samples, validate on 10000 samples\n",
      "Epoch 1/100\n",
      " - 2s - loss: 0.3444 - val_loss: 0.2637\n",
      "Epoch 2/100\n",
      " - 2s - loss: 0.2583 - val_loss: 0.2529\n",
      "Epoch 3/100\n",
      " - 1s - loss: 0.2430 - val_loss: 0.2305\n",
      "Epoch 4/100\n",
      " - 2s - loss: 0.2217 - val_loss: 0.2132\n",
      "Epoch 5/100\n",
      " - 2s - loss: 0.2087 - val_loss: 0.2031\n",
      "Epoch 6/100\n",
      " - 1s - loss: 0.1992 - val_loss: 0.1922\n",
      "Epoch 7/100\n",
      " - 2s - loss: 0.1869 - val_loss: 0.1781\n",
      "Epoch 8/100\n",
      " - 2s - loss: 0.1755 - val_loss: 0.1693\n",
      "Epoch 9/100\n",
      " - 2s - loss: 0.1691 - val_loss: 0.1655\n",
      "Epoch 10/100\n",
      " - 2s - loss: 0.1647 - val_loss: 0.1616\n",
      "Epoch 11/100\n",
      " - 2s - loss: 0.1606 - val_loss: 0.1573\n",
      "Epoch 12/100\n",
      " - 2s - loss: 0.1571 - val_loss: 0.1530\n",
      "Epoch 13/100\n",
      " - 2s - loss: 0.1541 - val_loss: 0.1507\n",
      "Epoch 14/100\n",
      " - 1s - loss: 0.1513 - val_loss: 0.1475\n",
      "Epoch 15/100\n",
      " - 2s - loss: 0.1488 - val_loss: 0.1459\n",
      "Epoch 16/100\n",
      " - 2s - loss: 0.1465 - val_loss: 0.1434\n",
      "Epoch 17/100\n",
      " - 1s - loss: 0.1443 - val_loss: 0.1433\n",
      "Epoch 18/100\n",
      " - 2s - loss: 0.1420 - val_loss: 0.1403\n",
      "Epoch 19/100\n",
      " - 2s - loss: 0.1398 - val_loss: 0.1366\n",
      "Epoch 20/100\n",
      " - 2s - loss: 0.1379 - val_loss: 0.1336\n",
      "Epoch 21/100\n",
      " - 2s - loss: 0.1360 - val_loss: 0.1333\n",
      "Epoch 22/100\n",
      " - 2s - loss: 0.1342 - val_loss: 0.1323\n",
      "Epoch 23/100\n",
      " - 2s - loss: 0.1328 - val_loss: 0.1324\n",
      "Epoch 24/100\n",
      " - 2s - loss: 0.1316 - val_loss: 0.1302\n",
      "Epoch 25/100\n",
      " - 2s - loss: 0.1305 - val_loss: 0.1280\n",
      "Epoch 26/100\n",
      " - 2s - loss: 0.1294 - val_loss: 0.1279\n",
      "Epoch 27/100\n",
      " - 2s - loss: 0.1286 - val_loss: 0.1299\n",
      "Epoch 28/100\n",
      " - 2s - loss: 0.1276 - val_loss: 0.1285\n",
      "Epoch 29/100\n",
      " - 2s - loss: 0.1269 - val_loss: 0.1251\n",
      "Epoch 30/100\n",
      " - 2s - loss: 0.1259 - val_loss: 0.1250\n",
      "Epoch 31/100\n",
      " - 2s - loss: 0.1250 - val_loss: 0.1223\n",
      "Epoch 32/100\n",
      " - 2s - loss: 0.1242 - val_loss: 0.1245\n",
      "Epoch 33/100\n",
      " - 2s - loss: 0.1234 - val_loss: 0.1219\n",
      "Epoch 34/100\n",
      " - 2s - loss: 0.1227 - val_loss: 0.1222\n",
      "Epoch 35/100\n",
      " - 2s - loss: 0.1219 - val_loss: 0.1198\n",
      "Epoch 36/100\n",
      " - 2s - loss: 0.1213 - val_loss: 0.1197\n",
      "Epoch 37/100\n",
      " - 2s - loss: 0.1204 - val_loss: 0.1194\n",
      "Epoch 38/100\n",
      " - 2s - loss: 0.1198 - val_loss: 0.1187\n",
      "Epoch 39/100\n",
      " - 2s - loss: 0.1193 - val_loss: 0.1172\n",
      "Epoch 40/100\n",
      " - 2s - loss: 0.1184 - val_loss: 0.1188\n",
      "Epoch 41/100\n",
      " - 2s - loss: 0.1180 - val_loss: 0.1164\n",
      "Epoch 42/100\n",
      " - 2s - loss: 0.1172 - val_loss: 0.1181\n",
      "Epoch 43/100\n",
      " - 2s - loss: 0.1168 - val_loss: 0.1159\n",
      "Epoch 44/100\n",
      " - 2s - loss: 0.1163 - val_loss: 0.1136\n",
      "Epoch 45/100\n",
      " - 2s - loss: 0.1157 - val_loss: 0.1153\n",
      "Epoch 46/100\n",
      " - 2s - loss: 0.1152 - val_loss: 0.1133\n",
      "Epoch 47/100\n",
      " - 2s - loss: 0.1145 - val_loss: 0.1139\n",
      "Epoch 48/100\n",
      " - 2s - loss: 0.1140 - val_loss: 0.1127\n",
      "Epoch 49/100\n",
      " - 2s - loss: 0.1135 - val_loss: 0.1123\n",
      "Epoch 50/100\n",
      " - 2s - loss: 0.1130 - val_loss: 0.1129\n",
      "Epoch 51/100\n",
      " - 2s - loss: 0.1123 - val_loss: 0.1108\n",
      "Epoch 52/100\n",
      " - 2s - loss: 0.1118 - val_loss: 0.1096\n",
      "Epoch 53/100\n",
      " - 2s - loss: 0.1111 - val_loss: 0.1091\n",
      "Epoch 54/100\n",
      " - 1s - loss: 0.1107 - val_loss: 0.1083\n",
      "Epoch 55/100\n",
      " - 1s - loss: 0.1103 - val_loss: 0.1109\n",
      "Epoch 56/100\n",
      " - 2s - loss: 0.1099 - val_loss: 0.1076\n",
      "Epoch 57/100\n",
      " - 1s - loss: 0.1092 - val_loss: 0.1079\n",
      "Epoch 58/100\n",
      " - 2s - loss: 0.1090 - val_loss: 0.1085\n",
      "Epoch 59/100\n",
      " - 2s - loss: 0.1085 - val_loss: 0.1082\n",
      "Epoch 60/100\n",
      " - 2s - loss: 0.1082 - val_loss: 0.1068\n",
      "Epoch 61/100\n",
      " - 2s - loss: 0.1077 - val_loss: 0.1092\n",
      "Epoch 62/100\n",
      " - 1s - loss: 0.1073 - val_loss: 0.1058\n",
      "Epoch 63/100\n",
      " - 2s - loss: 0.1070 - val_loss: 0.1066\n",
      "Epoch 64/100\n",
      " - 1s - loss: 0.1067 - val_loss: 0.1048\n",
      "Epoch 65/100\n",
      " - 2s - loss: 0.1064 - val_loss: 0.1046\n",
      "Epoch 66/100\n",
      " - 2s - loss: 0.1061 - val_loss: 0.1061\n",
      "Epoch 67/100\n",
      " - 2s - loss: 0.1059 - val_loss: 0.1039\n",
      "Epoch 68/100\n",
      " - 2s - loss: 0.1056 - val_loss: 0.1030\n",
      "Epoch 69/100\n",
      " - 2s - loss: 0.1053 - val_loss: 0.1024\n",
      "Epoch 70/100\n",
      " - 2s - loss: 0.1050 - val_loss: 0.1031\n",
      "Epoch 71/100\n",
      " - 2s - loss: 0.1048 - val_loss: 0.1030\n",
      "Epoch 72/100\n",
      " - 2s - loss: 0.1044 - val_loss: 0.1032\n",
      "Epoch 73/100\n",
      " - 2s - loss: 0.1043 - val_loss: 0.1028\n",
      "Epoch 74/100\n",
      " - 1s - loss: 0.1040 - val_loss: 0.1036\n",
      "Epoch 75/100\n",
      " - 2s - loss: 0.1039 - val_loss: 0.1025\n",
      "Epoch 76/100\n",
      " - 2s - loss: 0.1037 - val_loss: 0.1015\n",
      "Epoch 77/100\n",
      " - 2s - loss: 0.1034 - val_loss: 0.1022\n",
      "Epoch 78/100\n",
      " - 2s - loss: 0.1032 - val_loss: 0.1035\n",
      "Epoch 79/100\n",
      " - 2s - loss: 0.1031 - val_loss: 0.1008\n",
      "Epoch 80/100\n",
      " - 2s - loss: 0.1027 - val_loss: 0.1019\n",
      "Epoch 81/100\n",
      " - 2s - loss: 0.1027 - val_loss: 0.1026\n",
      "Epoch 82/100\n",
      " - 2s - loss: 0.1025 - val_loss: 0.1006\n",
      "Epoch 83/100\n",
      " - 2s - loss: 0.1023 - val_loss: 0.1016\n",
      "Epoch 84/100\n",
      " - 2s - loss: 0.1021 - val_loss: 0.1011\n",
      "Epoch 85/100\n",
      " - 2s - loss: 0.1020 - val_loss: 0.1019\n",
      "Epoch 86/100\n",
      " - 2s - loss: 0.1018 - val_loss: 0.1006\n",
      "Epoch 87/100\n",
      " - 2s - loss: 0.1015 - val_loss: 0.1007\n",
      "Epoch 88/100\n",
      " - 2s - loss: 0.1014 - val_loss: 0.1010\n",
      "Epoch 89/100\n",
      " - 2s - loss: 0.1014 - val_loss: 0.0997\n",
      "Epoch 90/100\n",
      " - 2s - loss: 0.1011 - val_loss: 0.1004\n",
      "Epoch 91/100\n",
      " - 2s - loss: 0.1009 - val_loss: 0.0988\n",
      "Epoch 92/100\n",
      " - 2s - loss: 0.1009 - val_loss: 0.1002\n",
      "Epoch 93/100\n",
      " - 2s - loss: 0.1007 - val_loss: 0.1001\n",
      "Epoch 94/100\n",
      " - 2s - loss: 0.1006 - val_loss: 0.0984\n",
      "Epoch 95/100\n",
      " - 2s - loss: 0.1004 - val_loss: 0.1001\n",
      "Epoch 96/100\n",
      " - 2s - loss: 0.1003 - val_loss: 0.1001\n",
      "Epoch 97/100\n",
      " - 2s - loss: 0.1002 - val_loss: 0.1011\n",
      "Epoch 98/100\n",
      " - 2s - loss: 0.1000 - val_loss: 0.1008\n",
      "Epoch 99/100\n",
      " - 2s - loss: 0.0999 - val_loss: 0.0999\n",
      "Epoch 100/100\n",
      " - 2s - loss: 0.0996 - val_loss: 0.0993\n"
     ]
    },
    {
     "data": {
      "text/plain": [
       "<keras.callbacks.callbacks.History at 0x1f3aebca848>"
      ]
     },
     "execution_count": 11,
     "metadata": {},
     "output_type": "execute_result"
    }
   ],
   "source": [
    "# Train autoencoder for 50 epochs\n",
    "\n",
    "autoencoder.fit(x_train, x_train, epochs=my_epochs, batch_size=256, shuffle=True, validation_data=(x_test, x_test),\n",
    "                verbose=2)"
   ]
  },
  {
   "cell_type": "code",
   "execution_count": 12,
   "metadata": {},
   "outputs": [],
   "source": [
    "# after 100 epochs the autoencoder seems to reach a stable train/test lost value\n",
    "\n",
    "# Visualize the reconstructed encoded representations\n",
    "\n",
    "# encode and decode some digits\n",
    "# note that we take them from the *test* set\n",
    "encoded_imgs = encoder.predict(x_test)\n",
    "decoded_imgs = decoder.predict(encoded_imgs)"
   ]
  },
  {
   "cell_type": "code",
   "execution_count": 13,
   "metadata": {},
   "outputs": [],
   "source": [
    "# save latent space features 32-d vector\n",
    "pickle.dump(encoded_imgs, open(features_path, 'wb'))\n",
    "pickle.dump(y_test, open(labels_path, 'wb'))"
   ]
  },
  {
   "cell_type": "code",
   "execution_count": 14,
   "metadata": {},
   "outputs": [
    {
     "data": {
      "image/png": "[encoded data removed]",
      "text/plain": [
       "<Figure size 1000x200 with 20 Axes>"
      ]
     },
     "metadata": {
      "needs_background": "light"
     },
     "output_type": "display_data"
    }
   ],
   "source": [
    "n = 10  # how many digits we will display\n",
    "plt.figure(figsize=(10, 2), dpi=100)\n",
    "for i in range(n):\n",
    "    # display original\n",
    "    ax = plt.subplot(2, n, i + 1)\n",
    "    plt.imshow(x_test[i].reshape(28, 28))\n",
    "    plt.gray()\n",
    "    ax.set_axis_off()\n",
    "\n",
    "    # display reconstruction\n",
    "    ax = plt.subplot(2, n, i + n + 1)\n",
    "    plt.imshow(decoded_imgs[i].reshape(28, 28))\n",
    "    plt.gray()\n",
    "    ax.set_axis_off()\n",
    "\n",
    "plt.show()\n",
    "\n",
    "K.clear_session()"
   ]
  },
  {
   "cell_type": "code",
   "execution_count": null,
   "metadata": {},
   "outputs": [],
   "source": []
  }
 ],
 "metadata": {
  "kernelspec": {
   "display_name": "Python 3",
   "language": "python",
   "name": "python3"
  },
  "language_info": {
   "codemirror_mode": {
    "name": "ipython",
    "version": 3
   },
   "file_extension": ".py",
   "mimetype": "text/x-python",
   "name": "python",
   "nbconvert_exporter": "python",
   "pygments_lexer": "ipython3",
   "version": "3.7.4"
  }
 },
 "nbformat": 4,
 "nbformat_minor": 4
}
