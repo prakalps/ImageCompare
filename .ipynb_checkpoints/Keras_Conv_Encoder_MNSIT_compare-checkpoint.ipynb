{
 "cells": [
  {
   "cell_type": "code",
   "execution_count": 8,
   "metadata": {},
   "outputs": [],
   "source": [
    "from keras.layers import Input, Conv2D, MaxPooling2D, UpSampling2D\n",
    "from keras.models import Model\n",
    "from keras.datasets import mnist\n",
    "from keras.callbacks import TensorBoard\n",
    "# from tensorflow.keras.callbacks import TensorBoard\n",
    "from keras import backend as K\n",
    "import numpy as np\n",
    "import matplotlib.pyplot as plt\n",
    "import pickle"
   ]
  },
  {
   "cell_type": "code",
   "execution_count": 9,
   "metadata": {},
   "outputs": [],
   "source": [
    "input_img = Input(shape=(28, 28, 1))    # adapt this if using 'channels_first' image data format\n",
    "\n",
    "x = Conv2D(16, (3, 3), activation='relu', padding='same')(input_img)\n",
    "x = MaxPooling2D((2, 2), padding='same')(x)\n",
    "x = Conv2D(8, (3, 3), activation='relu', padding='same')(x)\n",
    "x = MaxPooling2D((2, 2), padding='same')(x)\n",
    "x = Conv2D(8, (3, 3), activation='relu', padding='same')(x)\n",
    "encoded = MaxPooling2D((2, 2), padding='same')(x)"
   ]
  },
  {
   "cell_type": "code",
   "execution_count": 10,
   "metadata": {},
   "outputs": [],
   "source": [
    "# at this point the representation is (4, 4, 8), i.e. 128-dimensional\n",
    "\n",
    "x = Conv2D(8, (3, 3), activation='relu', padding='same')(encoded)\n",
    "x = UpSampling2D((2, 2))(x)\n",
    "x = Conv2D(8, (3, 3), activation='relu', padding='same')(x)\n",
    "x = UpSampling2D((2, 2))(x)\n",
    "x = Conv2D(16, (3, 3), activation='relu')(x)\n",
    "x = UpSampling2D((2, 2))(x)\n",
    "decoded = Conv2D(1, (3, 3), activation='sigmoid', padding='same')(x)\n",
    "\n",
    "autoencoder = Model(input_img, decoded)\n",
    "autoencoder.compile(optimizer='adadelta', loss='binary_crossentropy')"
   ]
  },
  {
   "cell_type": "code",
   "execution_count": 11,
   "metadata": {},
   "outputs": [],
   "source": [
    "from tensorflow.keras.callbacks import TensorBoard\n",
    "from tensorflow.keras.layers import *\n",
    "from tensorflow.keras.models import Sequential"
   ]
  },
  {
   "cell_type": "code",
   "execution_count": 78,
   "metadata": {},
   "outputs": [],
   "source": [
    "# To train it, use the original MNIST digits with shape (samples, 3, 28, 28),\n",
    "# and just normalize pixel values between 0 and 1\n",
    "(x_train, y_train), (x_test, y_test) = mnist.load_data()\n",
    "\n",
    "x_train = x_train.astype('float32') / 255.\n",
    "x_test = x_test.astype('float32') / 255.\n",
    "x_train = np.reshape(x_train, (len(x_train), 28, 28, 1))    # adapt this if using 'channels_first' image data format\n",
    "x_test = np.reshape(x_test, (len(x_test), 28, 28, 1))       # adapt this if using 'channels_first' image data format"
   ]
  },
  {
   "cell_type": "code",
   "execution_count": 12,
   "metadata": {},
   "outputs": [
    {
     "name": "stdout",
     "output_type": "stream",
     "text": [
      "Train on 60000 samples, validate on 10000 samples\n",
      "Epoch 1/50\n",
      " - 6s - loss: 0.2224 - val_loss: 0.1656\n",
      "Epoch 2/50\n",
      " - 6s - loss: 0.1543 - val_loss: 0.1424\n",
      "Epoch 3/50\n",
      " - 6s - loss: 0.1413 - val_loss: 0.1375\n",
      "Epoch 4/50\n",
      " - 6s - loss: 0.1346 - val_loss: 0.1294\n",
      "Epoch 5/50\n",
      " - 6s - loss: 0.1300 - val_loss: 0.1286\n",
      "Epoch 6/50\n",
      " - 6s - loss: 0.1265 - val_loss: 0.1252\n",
      "Epoch 7/50\n",
      " - 6s - loss: 0.1241 - val_loss: 0.1205\n",
      "Epoch 8/50\n",
      " - 6s - loss: 0.1219 - val_loss: 0.1199\n",
      "Epoch 9/50\n",
      " - 6s - loss: 0.1200 - val_loss: 0.1190\n",
      "Epoch 10/50\n",
      " - 6s - loss: 0.1183 - val_loss: 0.1169\n",
      "Epoch 11/50\n",
      " - 6s - loss: 0.1168 - val_loss: 0.1157\n",
      "Epoch 12/50\n",
      " - 6s - loss: 0.1152 - val_loss: 0.1109\n",
      "Epoch 13/50\n",
      " - 6s - loss: 0.1145 - val_loss: 0.1131\n",
      "Epoch 14/50\n",
      " - 7s - loss: 0.1134 - val_loss: 0.1155\n",
      "Epoch 15/50\n",
      " - 6s - loss: 0.1126 - val_loss: 0.1114\n",
      "Epoch 16/50\n",
      " - 7s - loss: 0.1118 - val_loss: 0.1092\n",
      "Epoch 17/50\n",
      " - 7s - loss: 0.1110 - val_loss: 0.1094\n",
      "Epoch 18/50\n",
      " - 6s - loss: 0.1107 - val_loss: 0.1108\n",
      "Epoch 19/50\n",
      " - 6s - loss: 0.1101 - val_loss: 0.1090\n",
      "Epoch 20/50\n",
      " - 7s - loss: 0.1096 - val_loss: 0.1082\n",
      "Epoch 21/50\n",
      " - 6s - loss: 0.1089 - val_loss: 0.1065\n",
      "Epoch 22/50\n",
      " - 6s - loss: 0.1084 - val_loss: 0.1057\n",
      "Epoch 23/50\n",
      " - 7s - loss: 0.1079 - val_loss: 0.1060\n",
      "Epoch 24/50\n",
      " - 6s - loss: 0.1077 - val_loss: 0.1053\n",
      "Epoch 25/50\n",
      " - 6s - loss: 0.1074 - val_loss: 0.1051\n",
      "Epoch 26/50\n",
      " - 6s - loss: 0.1068 - val_loss: 0.1081\n",
      "Epoch 27/50\n",
      " - 6s - loss: 0.1065 - val_loss: 0.1061\n",
      "Epoch 28/50\n",
      " - 6s - loss: 0.1064 - val_loss: 0.1014\n",
      "Epoch 29/50\n",
      " - 6s - loss: 0.1057 - val_loss: 0.1063\n",
      "Epoch 30/50\n",
      " - 6s - loss: 0.1057 - val_loss: 0.1042\n",
      "Epoch 31/50\n",
      " - 6s - loss: 0.1053 - val_loss: 0.1020\n",
      "Epoch 32/50\n",
      " - 6s - loss: 0.1050 - val_loss: 0.1043\n",
      "Epoch 33/50\n",
      " - 6s - loss: 0.1046 - val_loss: 0.1056\n",
      "Epoch 34/50\n",
      " - 6s - loss: 0.1044 - val_loss: 0.1077\n",
      "Epoch 35/50\n",
      " - 6s - loss: 0.1041 - val_loss: 0.1040\n",
      "Epoch 36/50\n",
      " - 6s - loss: 0.1039 - val_loss: 0.1026\n",
      "Epoch 37/50\n",
      " - 6s - loss: 0.1038 - val_loss: 0.1063\n",
      "Epoch 38/50\n",
      " - 6s - loss: 0.1034 - val_loss: 0.1049\n",
      "Epoch 39/50\n",
      " - 6s - loss: 0.1031 - val_loss: 0.1001\n",
      "Epoch 40/50\n",
      " - 6s - loss: 0.1028 - val_loss: 0.1039\n",
      "Epoch 41/50\n",
      " - 6s - loss: 0.1029 - val_loss: 0.1048\n",
      "Epoch 42/50\n",
      " - 6s - loss: 0.1028 - val_loss: 0.1016\n",
      "Epoch 43/50\n",
      " - 6s - loss: 0.1025 - val_loss: 0.0993\n",
      "Epoch 44/50\n",
      " - 6s - loss: 0.1021 - val_loss: 0.1003\n",
      "Epoch 45/50\n",
      " - 6s - loss: 0.1019 - val_loss: 0.1007\n",
      "Epoch 46/50\n",
      " - 6s - loss: 0.1020 - val_loss: 0.1005\n",
      "Epoch 47/50\n",
      " - 6s - loss: 0.1017 - val_loss: 0.1017\n",
      "Epoch 48/50\n",
      " - 6s - loss: 0.1016 - val_loss: 0.1006\n",
      "Epoch 49/50\n",
      " - 6s - loss: 0.1014 - val_loss: 0.1011\n",
      "Epoch 50/50\n",
      " - 6s - loss: 0.1015 - val_loss: 0.0988\n",
      " .. MODEL FITTING DONE ..\n"
     ]
    }
   ],
   "source": [
    "# open a terminal and start TensorBoard to read logs in the autoencoder subdirectory\n",
    "# tensorboard --logdir=autoencoder\n",
    "# tbCallBack = TensorBoard(log_dir='./Graph', histogram_freq=0, write_graph=True, write_images=True)\n",
    "autoencoder.fit(x_train, x_train, epochs=50, batch_size=128, shuffle=True, validation_data=(x_test, x_test), verbose=2)\n",
    "print(\" .. MODEL FITTING DONE ..\")"
   ]
  },
  {
   "cell_type": "code",
   "execution_count": 94,
   "metadata": {},
   "outputs": [],
   "source": [
    "# take a look at the 128-dimensional encoded representation\n",
    "# these representations are 8x4x4, so we reshape them to 4x32 in order to be able to display them as grayscale images\n",
    "\n",
    "encoder = Model(input_img, encoded)\n",
    "encoded_test_imgs = encoder.predict(x_test)\n",
    "\n",
    "# save latent space features 128-d vector\n",
    "pickle.dump(encoded_test_imgs, open('conv_autoe_features.pickle', 'wb'))\n",
    "\n",
    "# n = 10\n",
    "# plt.figure(figsize=(10, 4), dpi=100)\n",
    "# for i in range(n):\n",
    "#     ax = plt.subplot(1, n, i + 1)\n",
    "#     plt.imshow(encoded_imgs[i].reshape(4, 4 * 8).T)\n",
    "#     plt.gray()\n",
    "#     ax.set_axis_off()\n",
    "\n",
    "# plt.show()\n",
    "\n",
    "# K.clear_session()"
   ]
  },
  {
   "cell_type": "code",
   "execution_count": 95,
   "metadata": {},
   "outputs": [
    {
     "data": {
      "image/png": "[encoded data removed]",
      "text/plain": [
       "<Figure size 432x288 with 2 Axes>"
      ]
     },
     "metadata": {
      "needs_background": "light"
     },
     "output_type": "display_data"
    }
   ],
   "source": [
    "index = 0\n",
    "target_img = x_test[index]\n",
    "target_label = y_test[index]\n",
    "# encoded_target_img = encoder.predict(target_img)\n",
    "\n",
    "# plt.figure(figsize=(10, 4), dpi=100)\n",
    "plt.figure()\n",
    "# display original\n",
    "ax = plt.subplot(1, 2, 1)\n",
    "plt.imshow(target_img.reshape(28, 28))\n",
    "plt.gray()\n",
    "ax.set_xlabel(target_label, fontsize=10)\n",
    "# ax.set_axis_off()\n",
    "\n",
    "# display Encoded Image\n",
    "ax = plt.subplot(1, 2, 2)\n",
    "plt.imshow(encoded_test_imgs[index].reshape(4, 4 * 8).T)\n",
    "plt.gray()\n",
    "# ax.set_axis_off()\n",
    "\n",
    "plt.show()"
   ]
  },
  {
   "cell_type": "code",
   "execution_count": 100,
   "metadata": {},
   "outputs": [],
   "source": [
    "from scipy.spatial.distance import hamming, euclidean"
   ]
  },
  {
   "cell_type": "code",
   "execution_count": 97,
   "metadata": {},
   "outputs": [
    {
     "name": "stdout",
     "output_type": "stream",
     "text": [
      "[(0, 980), (1, 1135), (2, 1032), (3, 1010), (4, 982), (5, 892), (6, 958), (7, 1028), (8, 974), (9, 1009)]\n",
      "10000\n"
     ]
    }
   ],
   "source": [
    "total = []\n",
    "sum = 0\n",
    "for j in range(10):\n",
    " count = 0\n",
    " for i in y_test:\n",
    "  if i == j:\n",
    "    count += 1\n",
    " sum += count\n",
    " total.append((j,count))\n",
    "\n",
    "print(total)\n",
    "print(sum)"
   ]
  },
  {
   "cell_type": "code",
   "execution_count": 101,
   "metadata": {},
   "outputs": [],
   "source": [
    "threshold = 0.2\n",
    "output = []   # Holds a tuple : (distance, image)\n",
    "score = 0\n",
    "\n",
    "for i in range(10000):\n",
    "    distance = euclidean(encoded_test_imgs[index].reshape(-1), encoded_test_imgs[i].reshape(-1)) # Euclidean could be replaced by Hamming , Euclidean , cityblock (Manhattan) , chebyshev , cosine \n",
    "#     print(distance)\n",
    "    if distance < threshold:               # Every distance metric will have different thresgold value\n",
    "#         if distance != 0: \n",
    "        label = y_test[i]\n",
    "        result = (distance, x_test[i], label)\n",
    "        if label == target_label:\n",
    "            score += 1\n",
    "        output.append(result)"
   ]
  },
  {
   "cell_type": "code",
   "execution_count": 102,
   "metadata": {},
   "outputs": [
    {
     "name": "stdout",
     "output_type": "stream",
     "text": [
      "Target Image label: 7\n",
      "Total number of samples: 1028\n",
      "Threshold value: 0.2\n",
      "\n",
      "Number of images retrieved: 1\n",
      "True positives: 1\n",
      "False positives: 0\n",
      "Accuracy of retrieved samples:100.00%\n",
      "Percent of actual samples retrieved:0.10 %\n"
     ]
    }
   ],
   "source": [
    "retrieved = len(output)\n",
    "total_samples = total[target_label][1]\n",
    "print(\"Target Image label:\",target_label)\n",
    "print(\"Total number of samples:\", total_samples)\n",
    "print(\"Threshold value:\",threshold)\n",
    "\n",
    "print(\"\\nNumber of images retrieved:\",retrieved)\n",
    "print(\"True positives:\",score)\n",
    "print(\"False positives:\",retrieved - score)\n",
    "print(\"Accuracy of retrieved samples:{:.2f}%\".format((score/retrieved)*100))\n",
    "print(\"Percent of actual samples retrieved:{:.2f} %\".format((retrieved/total_samples)*100))"
   ]
  },
  {
   "cell_type": "code",
   "execution_count": null,
   "metadata": {},
   "outputs": [],
   "source": []
  }
 ],
 "metadata": {
  "kernelspec": {
   "display_name": "Python 3",
   "language": "python",
   "name": "python3"
  },
  "language_info": {
   "codemirror_mode": {
    "name": "ipython",
    "version": 3
   },
   "file_extension": ".py",
   "mimetype": "text/x-python",
   "name": "python",
   "nbconvert_exporter": "python",
   "pygments_lexer": "ipython3",
   "version": "3.7.4"
  }
 },
 "nbformat": 4,
 "nbformat_minor": 4
}
